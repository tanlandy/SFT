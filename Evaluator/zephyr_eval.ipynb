{
 "cells": [
  {
   "cell_type": "code",
   "execution_count": null,
   "metadata": {},
   "outputs": [],
   "source": [
    "import datasets\n",
    "\n",
    "eval_set = datasets.load_dataset(\"/opt/models/datasets/alpaca_eval\", \"alpaca_eval\")[\"eval\"]\n",
    "for example in eval_set:\n",
    "    # generate here is a placeholder for your models generations\n",
    "    example[\"output\"] = generate(example[\"instruction\"])"
   ]
  }
 ],
 "metadata": {
  "kernelspec": {
   "display_name": "ft",
   "language": "python",
   "name": "python3"
  },
  "language_info": {
   "name": "python",
   "version": "3.11.8"
  }
 },
 "nbformat": 4,
 "nbformat_minor": 2
}
